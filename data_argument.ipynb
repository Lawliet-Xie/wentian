{
 "cells": [
  {
   "cell_type": "code",
   "execution_count": 1,
   "metadata": {},
   "outputs": [],
   "source": [
    "import jieba\n",
    "#import synonyms\n",
    "import random\n",
    "from random import shuffle\n",
    "\n",
    "random.seed(2022)\n",
    "import numpy as np\n",
    "import pandas as pd\n",
    "from tqdm import tqdm"
   ]
  },
  {
   "cell_type": "code",
   "execution_count": 11,
   "metadata": {},
   "outputs": [],
   "source": [
    "data_root = './data/'\n",
    "corpus_data = pd.read_csv(data_root + \"corpus.tsv\", sep=\"\\t\", names=[\"doc\", \"title\"])\n",
    "dev_data = pd.read_csv(data_root + \"dev.query.txt\", sep=\"\\t\", names=[\"query\", \"title\"])\n",
    "train_data = pd.read_csv(data_root + \"train.query.txt\", sep=\"\\t\", names=[\"query\", \"title\"])\n",
    "qrels = pd.read_csv(data_root + \"qrels.train.tsv\", sep=\"\\t\", names=[\"query\", \"doc\"])\n",
    "corpus_data = corpus_data.set_index(\"doc\")\n",
    "dev_data = dev_data.set_index(\"query\")\n",
    "train_data = train_data.set_index(\"query\")\n",
    "qrels = qrels.set_index(\"query\")"
   ]
  },
  {
   "cell_type": "code",
   "execution_count": 2,
   "metadata": {},
   "outputs": [],
   "source": [
    "f = open('hit_stopwords.txt', encoding='utf-8')\n",
    "stop_words = list()\n",
    "for stop_word in f.readlines():\n",
    "    stop_words.append(stop_word[:-1])"
   ]
  },
  {
   "cell_type": "code",
   "execution_count": 3,
   "metadata": {},
   "outputs": [
    {
     "data": {
      "text/plain": [
       "((100000, 128), (1001500, 128))"
      ]
     },
     "execution_count": 3,
     "metadata": {},
     "output_type": "execute_result"
    }
   ],
   "source": [
    "query_embeddings = np.load('./npy/query_embeddings.npy')\n",
    "doc_embeddings = np.load('./npy/doc_embeddings.npy')\n",
    "query_embeddings.shape, doc_embeddings.shape"
   ]
  },
  {
   "cell_type": "code",
   "execution_count": 4,
   "metadata": {},
   "outputs": [
    {
     "name": "stderr",
     "output_type": "stream",
     "text": [
      "100%|██████████| 100000/100000 [5:00:15<00:00,  5.55it/s] \n"
     ]
    }
   ],
   "source": [
    "sim = np.zeros((query_embeddings.shape[0], 5))\n",
    "for i in tqdm(range(query_embeddings.shape[0])):\n",
    "    sim[i] = np.dot(query_embeddings[i:i+1], doc_embeddings.T).argsort()[0,::-1][:5]\n",
    "np.save('./npy/sim.npy', sim)\n",
    "sim = sim.astype(np.int64)\n",
    "sim = sim+1\n",
    "neg_qrels = np.zeros((sim.shape[0],4))\n",
    "for idx in tqdm(range(sim.shape[0])):\n",
    "    pos_idx = qrels.iloc[idx].ravel()[0]\n",
    "    neg_idx = sim[idx].tolist()\n",
    "    if pos_idx in neg_idx:\n",
    "        neg_idx.remove(pos_idx)\n",
    "    else:\n",
    "        neg_idx = neg_idx[:4]\n",
    "    neg_qrels[idx] = np.array([neg_idx])\n",
    "np.save('./npy/neg_qrels.npy', neg_qrels)"
   ]
  },
  {
   "cell_type": "code",
   "execution_count": 56,
   "metadata": {},
   "outputs": [
    {
     "data": {
      "text/html": [
       "<div>\n",
       "<style scoped>\n",
       "    .dataframe tbody tr th:only-of-type {\n",
       "        vertical-align: middle;\n",
       "    }\n",
       "\n",
       "    .dataframe tbody tr th {\n",
       "        vertical-align: top;\n",
       "    }\n",
       "\n",
       "    .dataframe thead th {\n",
       "        text-align: right;\n",
       "    }\n",
       "</style>\n",
       "<table border=\"1\" class=\"dataframe\">\n",
       "  <thead>\n",
       "    <tr style=\"text-align: right;\">\n",
       "      <th></th>\n",
       "      <th>title</th>\n",
       "    </tr>\n",
       "    <tr>\n",
       "      <th>doc</th>\n",
       "      <th></th>\n",
       "    </tr>\n",
       "  </thead>\n",
       "  <tbody>\n",
       "    <tr>\n",
       "      <th>519689.0</th>\n",
       "      <td>手动304不锈钢绞肉机家用小型手摇碎肉料理机手动香肠灌肠机搅馅</td>\n",
       "    </tr>\n",
       "    <tr>\n",
       "      <th>398307.0</th>\n",
       "      <td>商用绞肉机商用手动灌肠机多功能装腊肠罐香肠机绞大蒜手摇绞菜机</td>\n",
       "    </tr>\n",
       "    <tr>\n",
       "      <th>472555.0</th>\n",
       "      <td>全自动电动切菜机碎菜机机器颗粒菜陷机养殖喂鸡刹菜机打绞菜商用</td>\n",
       "    </tr>\n",
       "    <tr>\n",
       "      <th>224520.0</th>\n",
       "      <td>厂家供应商用多功能丸子机小型肉丸机各种蔬菜罗卜自动丸子成型机</td>\n",
       "    </tr>\n",
       "  </tbody>\n",
       "</table>\n",
       "</div>"
      ],
      "text/plain": [
       "                                    title\n",
       "doc                                      \n",
       "519689.0  手动304不锈钢绞肉机家用小型手摇碎肉料理机手动香肠灌肠机搅馅\n",
       "398307.0   商用绞肉机商用手动灌肠机多功能装腊肠罐香肠机绞大蒜手摇绞菜机\n",
       "472555.0   全自动电动切菜机碎菜机机器颗粒菜陷机养殖喂鸡刹菜机打绞菜商用\n",
       "224520.0   厂家供应商用多功能丸子机小型肉丸机各种蔬菜罗卜自动丸子成型机"
      ]
     },
     "execution_count": 56,
     "metadata": {},
     "output_type": "execute_result"
    }
   ],
   "source": [
    "corpus_data.loc[neg_qrels[1]]"
   ]
  },
  {
   "cell_type": "code",
   "execution_count": 14,
   "metadata": {},
   "outputs": [],
   "source": [
    "sentence = corpus_data['title'].loc[qrels.iloc[0].ravel()[0]]\n",
    "words = list(jieba.cut(sentence))\n",
    "words = [word for word in words if word not in stop_words]\n",
    "num_words = len(words)"
   ]
  },
  {
   "cell_type": "code",
   "execution_count": 22,
   "metadata": {},
   "outputs": [
    {
     "data": {
      "text/plain": [
       "('领券满减】美赞臣安婴儿A+亲舒 婴儿奶粉1段850克 0-12个月宝宝', '领券满减美赞臣安婴儿A亲舒 婴儿奶粉1段850克 012月宝宝')"
      ]
     },
     "execution_count": 22,
     "metadata": {},
     "output_type": "execute_result"
    }
   ],
   "source": [
    "sentence, \"\".join(words)"
   ]
  },
  {
   "cell_type": "code",
   "execution_count": 33,
   "metadata": {},
   "outputs": [
    {
     "name": "stdout",
     "output_type": "stream",
     "text": [
      "1\n",
      "满减\n"
     ]
    }
   ],
   "source": [
    "augmented_sentences = []\n",
    "num_aug = 2\n",
    "alpha = 0.1\n",
    "num_new_per_technique = int(num_aug/2)\n",
    "n = max(1, int(alpha * num_words))\n",
    "print(n)\n",
    "#随机插入ri\n",
    "for _ in range(num_new_per_technique):\n",
    "    a_words = random_insertion(words, n)\n",
    "    augmented_sentences.append(''.join(a_words))"
   ]
  },
  {
   "cell_type": "code",
   "execution_count": 30,
   "metadata": {},
   "outputs": [
    {
     "data": {
      "text/plain": [
       "['领券满减美赞臣安婴儿A亲舒 婴儿奶粉1段850克 012月12宝宝']"
      ]
     },
     "execution_count": 30,
     "metadata": {},
     "output_type": "execute_result"
    }
   ],
   "source": [
    "augmented_sentences"
   ]
  },
  {
   "cell_type": "code",
   "execution_count": 32,
   "metadata": {},
   "outputs": [],
   "source": [
    "import math\n",
    "def is_number(s):\n",
    "    if s != s.strip():\n",
    "        return False\n",
    "    try:\n",
    "        f = float(s)\n",
    "        if math.isnan(f) or math.isinf(f):\n",
    "            return False\n",
    "        return True\n",
    "    except ValueError:\n",
    "        return False\n",
    "\n",
    "def random_swap(words, n):\n",
    "    new_words = words.copy()\n",
    "    for _ in range(n):\n",
    "        new_words = swap_word(new_words)\n",
    "    return new_words\n",
    "\n",
    "def swap_word(new_words):\n",
    "    random_idx_1 = random.randint(0, len(new_words)-1)\n",
    "    random_idx_2 = random_idx_1\n",
    "    counter = 0\n",
    "    while random_idx_2 == random_idx_1:\n",
    "        random_idx_2 = random.randint(0, len(new_words)-1)\n",
    "        counter += 1\n",
    "        if counter > 3:\n",
    "            return new_words\n",
    "    new_words[random_idx_1], new_words[random_idx_2] = new_words[random_idx_2], new_words[random_idx_1] \n",
    "    return new_words\n",
    "\n",
    "def random_insertion(words, n):\n",
    "    new_words = words.copy()\n",
    "    for _ in range(n):\n",
    "        add_word(new_words)\n",
    "    return new_words\n",
    "\n",
    "def add_word(new_words):\n",
    "    counter = 0\n",
    "    while counter < 10:  \n",
    "        random_word = new_words[random.randint(0, len(new_words)-1)]\n",
    "        counter += 1\n",
    "        if len(random_word) > 1 and not is_number(random_word):\n",
    "            break\n",
    "    random_idx = random.randint(0, len(new_words)-1)\n",
    "    print(random_word)\n",
    "    new_words.insert(random_idx, random_word)\n",
    "\n",
    "def eda(sentence, alpha, p_rd=0.1, num_aug=2):\n",
    "    seg_list = jieba.cut(sentence)\n",
    "    seg_list = \" \".join(seg_list)\n",
    "    words = list(seg_list.split())\n",
    "    words = [word for word in words if word not in stop_words]\n",
    "    num_words = len(words)\n",
    "\n",
    "    augmented_sentences = []\n",
    "    num_new_per_technique = int(num_aug/4)+1\n",
    "    n = max(1, int(alpha * num_words))\n",
    "\n",
    "    #随机插入ri\n",
    "    for _ in range(num_new_per_technique):\n",
    "        a_words = random_insertion(words, n)\n",
    "        augmented_sentences.append(' '.join(a_words))\n",
    "    \n",
    "    #随机交换rs\n",
    "    for _ in range(num_new_per_technique):\n",
    "        a_words = random_swap(words, n_rs)\n",
    "        augmented_sentences.append(' '.join(a_words))\n",
    "\n",
    "   \n",
    "    #随机删除rd\n",
    "    for _ in range(num_new_per_technique):\n",
    "        a_words = random_deletion(words, p_rd)\n",
    "        augmented_sentences.append(' '.join(a_words))\n",
    "    \n",
    "    #print(augmented_sentences)\n",
    "    shuffle(augmented_sentences)\n",
    "\n",
    "    if num_aug >= 1:\n",
    "        augmented_sentences = augmented_sentences[:num_aug]\n",
    "    else:\n",
    "        keep_prob = num_aug / len(augmented_sentences)\n",
    "        augmented_sentences = [s for s in augmented_sentences if random.uniform(0, 1) < keep_prob]\n",
    "\n",
    "    augmented_sentences.append(seg_list)\n",
    "\n",
    "    return augmented_sentences"
   ]
  },
  {
   "cell_type": "code",
   "execution_count": null,
   "metadata": {},
   "outputs": [],
   "source": []
  },
  {
   "cell_type": "code",
   "execution_count": null,
   "metadata": {},
   "outputs": [],
   "source": [
    "print(sim.shape)\n",
    "np.save('./npy/sim.npy', sim)"
   ]
  },
  {
   "cell_type": "code",
   "execution_count": null,
   "metadata": {},
   "outputs": [],
   "source": []
  }
 ],
 "metadata": {
  "interpreter": {
   "hash": "07efdcd4b820c98a756949507a4d29d7862823915ec7477944641bea022f4f62"
  },
  "kernelspec": {
   "display_name": "Python 3.8.8 ('base')",
   "language": "python",
   "name": "python3"
  },
  "language_info": {
   "codemirror_mode": {
    "name": "ipython",
    "version": 3
   },
   "file_extension": ".py",
   "mimetype": "text/x-python",
   "name": "python",
   "nbconvert_exporter": "python",
   "pygments_lexer": "ipython3",
   "version": "3.8.8"
  },
  "orig_nbformat": 4
 },
 "nbformat": 4,
 "nbformat_minor": 2
}
